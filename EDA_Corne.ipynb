{
 "cells": [
  {
   "cell_type": "code",
   "execution_count": 2,
   "metadata": {},
   "outputs": [],
   "source": [
    "%matplotlib inline\n",
    "import os\n",
    "import pandas as pd"
   ]
  },
  {
   "cell_type": "code",
   "execution_count": 3,
   "metadata": {},
   "outputs": [],
   "source": [
    "lst = []\n",
    "for i in ['Westlake', 'Sun City']:\n",
    "    for j in ['business', 'checkin', 'review', 'tip', 'user']:\n",
    "        f = open(f'Data/{i}/{j}.json')\n",
    "        lst.append(pd.read_json(f, lines=True))\n",
    "\n",
    "Westlake_business = lst[0]\n",
    "Westlake_checkin = lst[1]\n",
    "Westlake_review = lst[2]\n",
    "Westlake_tip = lst[3]\n",
    "Westlake_user = lst[4]\n",
    "Sun_business = lst[5]\n",
    "Sun_checkin = lst[6]\n",
    "Sun_review = lst[7]\n",
    "Sun_tip = lst[8]\n",
    "Sun_user = lst[9]"
   ]
  },
  {
   "cell_type": "code",
   "execution_count": 4,
   "metadata": {},
   "outputs": [
    {
     "data": {
      "text/html": [
       "<div>\n",
       "<style scoped>\n",
       "    .dataframe tbody tr th:only-of-type {\n",
       "        vertical-align: middle;\n",
       "    }\n",
       "\n",
       "    .dataframe tbody tr th {\n",
       "        vertical-align: top;\n",
       "    }\n",
       "\n",
       "    .dataframe thead th {\n",
       "        text-align: right;\n",
       "    }\n",
       "</style>\n",
       "<table border=\"1\" class=\"dataframe\">\n",
       "  <thead>\n",
       "    <tr style=\"text-align: right;\">\n",
       "      <th></th>\n",
       "      <th>business_id</th>\n",
       "      <th>cool</th>\n",
       "      <th>date</th>\n",
       "      <th>funny</th>\n",
       "      <th>review_id</th>\n",
       "      <th>stars</th>\n",
       "      <th>text</th>\n",
       "      <th>useful</th>\n",
       "      <th>user_id</th>\n",
       "    </tr>\n",
       "  </thead>\n",
       "  <tbody>\n",
       "    <tr>\n",
       "      <th>0</th>\n",
       "      <td>2lcK3d4K7FU6O8wXdWzOmA</td>\n",
       "      <td>1</td>\n",
       "      <td>2015-10-07 22:34:13</td>\n",
       "      <td>0</td>\n",
       "      <td>yO9uwcDlzcFBpp6xSq_wOg</td>\n",
       "      <td>5</td>\n",
       "      <td>Great and fresh food (had filet mignon and asp...</td>\n",
       "      <td>0</td>\n",
       "      <td>apP3CApEq6-z59tRLwEBYA</td>\n",
       "    </tr>\n",
       "    <tr>\n",
       "      <th>1</th>\n",
       "      <td>bzdb1jJ1j8Qn_RVHY97FnA</td>\n",
       "      <td>0</td>\n",
       "      <td>2011-10-27 13:11:48</td>\n",
       "      <td>0</td>\n",
       "      <td>ZrQ6PqgZZOcaH8pDlil1ww</td>\n",
       "      <td>2</td>\n",
       "      <td>I feel like Friday's food menu has gotten wors...</td>\n",
       "      <td>1</td>\n",
       "      <td>xtwoOTTOuZrXj4GQtsueuA</td>\n",
       "    </tr>\n",
       "    <tr>\n",
       "      <th>2</th>\n",
       "      <td>z71IqTCbQW7uzw2H2T1QrA</td>\n",
       "      <td>0</td>\n",
       "      <td>2015-01-18 16:00:39</td>\n",
       "      <td>0</td>\n",
       "      <td>zVBQuDrIBMPEZHyu9YJjLg</td>\n",
       "      <td>5</td>\n",
       "      <td>87 West is awesome!  The decor and fireplace c...</td>\n",
       "      <td>0</td>\n",
       "      <td>ecz6xGzGm1-wwswYh8VT8A</td>\n",
       "    </tr>\n",
       "    <tr>\n",
       "      <th>3</th>\n",
       "      <td>KR2kRmHnRCaNzOUEGoB25w</td>\n",
       "      <td>1</td>\n",
       "      <td>2015-01-04 01:22:20</td>\n",
       "      <td>0</td>\n",
       "      <td>HzD24-WZ8pzGGOZeN_ktIA</td>\n",
       "      <td>5</td>\n",
       "      <td>Awesome burgers, great atmosphere, attentive w...</td>\n",
       "      <td>0</td>\n",
       "      <td>bJ1ir7YZ-e-cigMahFLEIw</td>\n",
       "    </tr>\n",
       "    <tr>\n",
       "      <th>4</th>\n",
       "      <td>z58nyUVyDV-vC7nXFfvR5g</td>\n",
       "      <td>0</td>\n",
       "      <td>2010-05-15 00:58:29</td>\n",
       "      <td>0</td>\n",
       "      <td>DXGcEtOckOkrs-7HRp4eXQ</td>\n",
       "      <td>3</td>\n",
       "      <td>Looking for a quick mexican fix?  Good food, l...</td>\n",
       "      <td>1</td>\n",
       "      <td>FO8hILdACBsZrVDur5x8RA</td>\n",
       "    </tr>\n",
       "  </tbody>\n",
       "</table>\n",
       "</div>"
      ],
      "text/plain": [
       "              business_id  cool                date  funny  \\\n",
       "0  2lcK3d4K7FU6O8wXdWzOmA     1 2015-10-07 22:34:13      0   \n",
       "1  bzdb1jJ1j8Qn_RVHY97FnA     0 2011-10-27 13:11:48      0   \n",
       "2  z71IqTCbQW7uzw2H2T1QrA     0 2015-01-18 16:00:39      0   \n",
       "3  KR2kRmHnRCaNzOUEGoB25w     1 2015-01-04 01:22:20      0   \n",
       "4  z58nyUVyDV-vC7nXFfvR5g     0 2010-05-15 00:58:29      0   \n",
       "\n",
       "                review_id  stars  \\\n",
       "0  yO9uwcDlzcFBpp6xSq_wOg      5   \n",
       "1  ZrQ6PqgZZOcaH8pDlil1ww      2   \n",
       "2  zVBQuDrIBMPEZHyu9YJjLg      5   \n",
       "3  HzD24-WZ8pzGGOZeN_ktIA      5   \n",
       "4  DXGcEtOckOkrs-7HRp4eXQ      3   \n",
       "\n",
       "                                                text  useful  \\\n",
       "0  Great and fresh food (had filet mignon and asp...       0   \n",
       "1  I feel like Friday's food menu has gotten wors...       1   \n",
       "2  87 West is awesome!  The decor and fireplace c...       0   \n",
       "3  Awesome burgers, great atmosphere, attentive w...       0   \n",
       "4  Looking for a quick mexican fix?  Good food, l...       1   \n",
       "\n",
       "                  user_id  \n",
       "0  apP3CApEq6-z59tRLwEBYA  \n",
       "1  xtwoOTTOuZrXj4GQtsueuA  \n",
       "2  ecz6xGzGm1-wwswYh8VT8A  \n",
       "3  bJ1ir7YZ-e-cigMahFLEIw  \n",
       "4  FO8hILdACBsZrVDur5x8RA  "
      ]
     },
     "execution_count": 4,
     "metadata": {},
     "output_type": "execute_result"
    }
   ],
   "source": [
    "Westlake_review.head()"
   ]
  },
  {
   "cell_type": "code",
   "execution_count": 5,
   "metadata": {},
   "outputs": [
    {
     "data": {
      "text/html": [
       "<div>\n",
       "<style scoped>\n",
       "    .dataframe tbody tr th:only-of-type {\n",
       "        vertical-align: middle;\n",
       "    }\n",
       "\n",
       "    .dataframe tbody tr th {\n",
       "        vertical-align: top;\n",
       "    }\n",
       "\n",
       "    .dataframe thead th {\n",
       "        text-align: right;\n",
       "    }\n",
       "</style>\n",
       "<table border=\"1\" class=\"dataframe\">\n",
       "  <thead>\n",
       "    <tr style=\"text-align: right;\">\n",
       "      <th></th>\n",
       "      <th>address</th>\n",
       "      <th>attributes</th>\n",
       "      <th>business_id</th>\n",
       "      <th>categories</th>\n",
       "      <th>city</th>\n",
       "      <th>hours</th>\n",
       "      <th>is_open</th>\n",
       "      <th>latitude</th>\n",
       "      <th>longitude</th>\n",
       "      <th>name</th>\n",
       "      <th>postal_code</th>\n",
       "      <th>review_count</th>\n",
       "      <th>stars</th>\n",
       "      <th>state</th>\n",
       "    </tr>\n",
       "  </thead>\n",
       "  <tbody>\n",
       "    <tr>\n",
       "      <th>0</th>\n",
       "      <td>30808 Center Ridge Rd</td>\n",
       "      <td>None</td>\n",
       "      <td>-MsRvdPnuw6QuLn5Vxjruw</td>\n",
       "      <td>Shopping, Home Services, Interior Design, Rugs...</td>\n",
       "      <td>Westlake</td>\n",
       "      <td>{'Monday': '11:0-20:0', 'Tuesday': '10:0-20:0'...</td>\n",
       "      <td>1</td>\n",
       "      <td>41.422794</td>\n",
       "      <td>-81.962215</td>\n",
       "      <td>Brian's Furniture</td>\n",
       "      <td>44145</td>\n",
       "      <td>3</td>\n",
       "      <td>5.0</td>\n",
       "      <td>OH</td>\n",
       "    </tr>\n",
       "    <tr>\n",
       "      <th>1</th>\n",
       "      <td>863 Bradley Rd</td>\n",
       "      <td>None</td>\n",
       "      <td>C_oejk3EzfsxP7-owQDkbQ</td>\n",
       "      <td>Pet Services, Pet Sitting, Pets</td>\n",
       "      <td>Westlake</td>\n",
       "      <td>{'Monday': '6:30-18:30', 'Tuesday': '6:30-18:3...</td>\n",
       "      <td>1</td>\n",
       "      <td>41.474970</td>\n",
       "      <td>-81.959405</td>\n",
       "      <td>Camp Bow Wow Westlake</td>\n",
       "      <td>44145</td>\n",
       "      <td>22</td>\n",
       "      <td>4.0</td>\n",
       "      <td>OH</td>\n",
       "    </tr>\n",
       "    <tr>\n",
       "      <th>2</th>\n",
       "      <td>2004 Crocker Rd</td>\n",
       "      <td>{'GoodForKids': 'False', 'RestaurantsTakeOut':...</td>\n",
       "      <td>nYvBZYg9rfqWFTYuxSVMdw</td>\n",
       "      <td>Mexican, Bars, Restaurants, Vegetarian, Nightlife</td>\n",
       "      <td>Westlake</td>\n",
       "      <td>{'Monday': '11:0-22:0', 'Tuesday': '11:0-22:0'...</td>\n",
       "      <td>1</td>\n",
       "      <td>41.461569</td>\n",
       "      <td>-81.951303</td>\n",
       "      <td>Cantina Laredo</td>\n",
       "      <td>44145</td>\n",
       "      <td>62</td>\n",
       "      <td>4.0</td>\n",
       "      <td>OH</td>\n",
       "    </tr>\n",
       "    <tr>\n",
       "      <th>3</th>\n",
       "      <td>24481 Detroit Rd</td>\n",
       "      <td>{'OutdoorSeating': 'True', 'Alcohol': 'u'full_...</td>\n",
       "      <td>0ZN2MfHyjNIkCx7qJvVhDg</td>\n",
       "      <td>Restaurants, Nightlife, American (New), Dance ...</td>\n",
       "      <td>Westlake</td>\n",
       "      <td>{'Monday': '11:0-2:0', 'Tuesday': '11:0-2:0', ...</td>\n",
       "      <td>0</td>\n",
       "      <td>41.470596</td>\n",
       "      <td>-81.891643</td>\n",
       "      <td>SB Eightyone</td>\n",
       "      <td>44145</td>\n",
       "      <td>34</td>\n",
       "      <td>2.5</td>\n",
       "      <td>OH</td>\n",
       "    </tr>\n",
       "    <tr>\n",
       "      <th>4</th>\n",
       "      <td>26410 Center Ridge Rd</td>\n",
       "      <td>{'ByAppointmentOnly': 'True'}</td>\n",
       "      <td>VZKWW2zQbk-rxwpAcque8w</td>\n",
       "      <td>Dermatologists, Doctors, Health &amp; Medical</td>\n",
       "      <td>Westlake</td>\n",
       "      <td>{'Monday': '9:0-17:0', 'Tuesday': '9:0-17:0', ...</td>\n",
       "      <td>1</td>\n",
       "      <td>41.452693</td>\n",
       "      <td>-81.913515</td>\n",
       "      <td>Kish L Stephen, MD</td>\n",
       "      <td>44145</td>\n",
       "      <td>3</td>\n",
       "      <td>3.0</td>\n",
       "      <td>OH</td>\n",
       "    </tr>\n",
       "  </tbody>\n",
       "</table>\n",
       "</div>"
      ],
      "text/plain": [
       "                 address                                         attributes  \\\n",
       "0  30808 Center Ridge Rd                                               None   \n",
       "1         863 Bradley Rd                                               None   \n",
       "2        2004 Crocker Rd  {'GoodForKids': 'False', 'RestaurantsTakeOut':...   \n",
       "3       24481 Detroit Rd  {'OutdoorSeating': 'True', 'Alcohol': 'u'full_...   \n",
       "4  26410 Center Ridge Rd                      {'ByAppointmentOnly': 'True'}   \n",
       "\n",
       "              business_id                                         categories  \\\n",
       "0  -MsRvdPnuw6QuLn5Vxjruw  Shopping, Home Services, Interior Design, Rugs...   \n",
       "1  C_oejk3EzfsxP7-owQDkbQ                    Pet Services, Pet Sitting, Pets   \n",
       "2  nYvBZYg9rfqWFTYuxSVMdw  Mexican, Bars, Restaurants, Vegetarian, Nightlife   \n",
       "3  0ZN2MfHyjNIkCx7qJvVhDg  Restaurants, Nightlife, American (New), Dance ...   \n",
       "4  VZKWW2zQbk-rxwpAcque8w          Dermatologists, Doctors, Health & Medical   \n",
       "\n",
       "       city                                              hours  is_open  \\\n",
       "0  Westlake  {'Monday': '11:0-20:0', 'Tuesday': '10:0-20:0'...        1   \n",
       "1  Westlake  {'Monday': '6:30-18:30', 'Tuesday': '6:30-18:3...        1   \n",
       "2  Westlake  {'Monday': '11:0-22:0', 'Tuesday': '11:0-22:0'...        1   \n",
       "3  Westlake  {'Monday': '11:0-2:0', 'Tuesday': '11:0-2:0', ...        0   \n",
       "4  Westlake  {'Monday': '9:0-17:0', 'Tuesday': '9:0-17:0', ...        1   \n",
       "\n",
       "    latitude  longitude                   name  postal_code  review_count  \\\n",
       "0  41.422794 -81.962215      Brian's Furniture        44145             3   \n",
       "1  41.474970 -81.959405  Camp Bow Wow Westlake        44145            22   \n",
       "2  41.461569 -81.951303         Cantina Laredo        44145            62   \n",
       "3  41.470596 -81.891643           SB Eightyone        44145            34   \n",
       "4  41.452693 -81.913515     Kish L Stephen, MD        44145             3   \n",
       "\n",
       "   stars state  \n",
       "0    5.0    OH  \n",
       "1    4.0    OH  \n",
       "2    4.0    OH  \n",
       "3    2.5    OH  \n",
       "4    3.0    OH  "
      ]
     },
     "execution_count": 5,
     "metadata": {},
     "output_type": "execute_result"
    }
   ],
   "source": [
    "Westlake_business.head()"
   ]
  },
  {
   "cell_type": "code",
   "execution_count": 6,
   "metadata": {},
   "outputs": [
    {
     "data": {
      "text/html": [
       "<div>\n",
       "<style scoped>\n",
       "    .dataframe tbody tr th:only-of-type {\n",
       "        vertical-align: middle;\n",
       "    }\n",
       "\n",
       "    .dataframe tbody tr th {\n",
       "        vertical-align: top;\n",
       "    }\n",
       "\n",
       "    .dataframe thead th {\n",
       "        text-align: right;\n",
       "    }\n",
       "</style>\n",
       "<table border=\"1\" class=\"dataframe\">\n",
       "  <thead>\n",
       "    <tr style=\"text-align: right;\">\n",
       "      <th></th>\n",
       "      <th>business_id</th>\n",
       "      <th>date</th>\n",
       "    </tr>\n",
       "  </thead>\n",
       "  <tbody>\n",
       "    <tr>\n",
       "      <th>0</th>\n",
       "      <td>-MsRvdPnuw6QuLn5Vxjruw</td>\n",
       "      <td>2016-02-17 22:58:06</td>\n",
       "    </tr>\n",
       "    <tr>\n",
       "      <th>1</th>\n",
       "      <td>-ak1fx5L9cNjUE56as12MA</td>\n",
       "      <td>2017-12-30 17:13:44, 2018-02-11 15:36:23, 2018...</td>\n",
       "    </tr>\n",
       "    <tr>\n",
       "      <th>2</th>\n",
       "      <td>-lAV1uegafxCjGE306kBYQ</td>\n",
       "      <td>2015-07-01 16:49:32, 2015-07-03 13:23:24, 2015...</td>\n",
       "    </tr>\n",
       "    <tr>\n",
       "      <th>3</th>\n",
       "      <td>-mP3F3srknwKJdJ5FqcX5Q</td>\n",
       "      <td>2010-07-04 04:42:04, 2010-08-22 18:31:16, 2010...</td>\n",
       "    </tr>\n",
       "    <tr>\n",
       "      <th>4</th>\n",
       "      <td>-pmqS-odJCmxOvWfRFAQ9Q</td>\n",
       "      <td>2011-03-20 21:32:56, 2011-06-27 17:00:25, 2011...</td>\n",
       "    </tr>\n",
       "  </tbody>\n",
       "</table>\n",
       "</div>"
      ],
      "text/plain": [
       "              business_id                                               date\n",
       "0  -MsRvdPnuw6QuLn5Vxjruw                                2016-02-17 22:58:06\n",
       "1  -ak1fx5L9cNjUE56as12MA  2017-12-30 17:13:44, 2018-02-11 15:36:23, 2018...\n",
       "2  -lAV1uegafxCjGE306kBYQ  2015-07-01 16:49:32, 2015-07-03 13:23:24, 2015...\n",
       "3  -mP3F3srknwKJdJ5FqcX5Q  2010-07-04 04:42:04, 2010-08-22 18:31:16, 2010...\n",
       "4  -pmqS-odJCmxOvWfRFAQ9Q  2011-03-20 21:32:56, 2011-06-27 17:00:25, 2011..."
      ]
     },
     "execution_count": 6,
     "metadata": {},
     "output_type": "execute_result"
    }
   ],
   "source": [
    "Westlake_checkin.head()"
   ]
  },
  {
   "cell_type": "code",
   "execution_count": 13,
   "metadata": {},
   "outputs": [
    {
     "data": {
      "text/html": [
       "<div>\n",
       "<style scoped>\n",
       "    .dataframe tbody tr th:only-of-type {\n",
       "        vertical-align: middle;\n",
       "    }\n",
       "\n",
       "    .dataframe tbody tr th {\n",
       "        vertical-align: top;\n",
       "    }\n",
       "\n",
       "    .dataframe thead th {\n",
       "        text-align: right;\n",
       "    }\n",
       "</style>\n",
       "<table border=\"1\" class=\"dataframe\">\n",
       "  <thead>\n",
       "    <tr style=\"text-align: right;\">\n",
       "      <th></th>\n",
       "      <th>business_id</th>\n",
       "      <th>compliment_count</th>\n",
       "      <th>date</th>\n",
       "      <th>text</th>\n",
       "      <th>user_id</th>\n",
       "    </tr>\n",
       "  </thead>\n",
       "  <tbody>\n",
       "    <tr>\n",
       "      <th>0</th>\n",
       "      <td>yBPeUobSSaJQKaYYgiOKYA</td>\n",
       "      <td>0</td>\n",
       "      <td>2012-07-31 12:05:54</td>\n",
       "      <td>For collision estimates, enter through John La...</td>\n",
       "      <td>xtwoOTTOuZrXj4GQtsueuA</td>\n",
       "    </tr>\n",
       "    <tr>\n",
       "      <th>1</th>\n",
       "      <td>MWcN6qLWTfRJqLySxwJNqQ</td>\n",
       "      <td>0</td>\n",
       "      <td>2015-09-12 17:05:52</td>\n",
       "      <td>They no longer have the weekend lunch buffet!</td>\n",
       "      <td>0tC5OOTuwvPGnnqhPCoRSw</td>\n",
       "    </tr>\n",
       "    <tr>\n",
       "      <th>2</th>\n",
       "      <td>uFL4KroMu-dFRsSJrcFzVQ</td>\n",
       "      <td>0</td>\n",
       "      <td>2012-03-15 20:31:12</td>\n",
       "      <td>Tuesday's (5p - close) are $1 Burger Nights ju...</td>\n",
       "      <td>xtwoOTTOuZrXj4GQtsueuA</td>\n",
       "    </tr>\n",
       "    <tr>\n",
       "      <th>3</th>\n",
       "      <td>uFL4KroMu-dFRsSJrcFzVQ</td>\n",
       "      <td>0</td>\n",
       "      <td>2012-03-15 20:29:44</td>\n",
       "      <td>Starting March 26th - Happy Hour, Monday thru ...</td>\n",
       "      <td>xtwoOTTOuZrXj4GQtsueuA</td>\n",
       "    </tr>\n",
       "    <tr>\n",
       "      <th>4</th>\n",
       "      <td>cbjF6szaq2orE0BplGAKEA</td>\n",
       "      <td>0</td>\n",
       "      <td>2014-09-08 22:46:58</td>\n",
       "      <td>The hooley hunks are great, big chunks of high...</td>\n",
       "      <td>owj_Ij0UvMi8ZiGa_Y_deg</td>\n",
       "    </tr>\n",
       "  </tbody>\n",
       "</table>\n",
       "</div>"
      ],
      "text/plain": [
       "              business_id  compliment_count                date  \\\n",
       "0  yBPeUobSSaJQKaYYgiOKYA                 0 2012-07-31 12:05:54   \n",
       "1  MWcN6qLWTfRJqLySxwJNqQ                 0 2015-09-12 17:05:52   \n",
       "2  uFL4KroMu-dFRsSJrcFzVQ                 0 2012-03-15 20:31:12   \n",
       "3  uFL4KroMu-dFRsSJrcFzVQ                 0 2012-03-15 20:29:44   \n",
       "4  cbjF6szaq2orE0BplGAKEA                 0 2014-09-08 22:46:58   \n",
       "\n",
       "                                                text                 user_id  \n",
       "0  For collision estimates, enter through John La...  xtwoOTTOuZrXj4GQtsueuA  \n",
       "1      They no longer have the weekend lunch buffet!  0tC5OOTuwvPGnnqhPCoRSw  \n",
       "2  Tuesday's (5p - close) are $1 Burger Nights ju...  xtwoOTTOuZrXj4GQtsueuA  \n",
       "3  Starting March 26th - Happy Hour, Monday thru ...  xtwoOTTOuZrXj4GQtsueuA  \n",
       "4  The hooley hunks are great, big chunks of high...  owj_Ij0UvMi8ZiGa_Y_deg  "
      ]
     },
     "execution_count": 13,
     "metadata": {},
     "output_type": "execute_result"
    }
   ],
   "source": [
    "Westlake_tip.head()\n",
    "# Westlake_tip['compliment_count'].unique()"
   ]
  },
  {
   "cell_type": "code",
   "execution_count": 32,
   "metadata": {},
   "outputs": [
    {
     "name": "stdout",
     "output_type": "stream",
     "text": [
      "   average_stars  compliment_cool  compliment_cute  compliment_funny  \\\n",
      "0           3.91              756               57               756   \n",
      "1           3.62                1                0                 1   \n",
      "2           4.35               32                4                32   \n",
      "3           2.85                0                0                 0   \n",
      "4           4.38                6                0                 6   \n",
      "\n",
      "   compliment_hot  compliment_list  compliment_more  compliment_note  \\\n",
      "0             366               36               59              541   \n",
      "1               0                0                0                0   \n",
      "2              20                1               10               19   \n",
      "3               0                0                0                1   \n",
      "4               3                0                1               10   \n",
      "\n",
      "   compliment_photos  compliment_plain  ...  cool  \\\n",
      "0                164              1696  ...  6712   \n",
      "1                  0                 1  ...    11   \n",
      "2                  4                48  ...   361   \n",
      "3                  0                 0  ...     4   \n",
      "4                  2                13  ...   285   \n",
      "\n",
      "                                          elite  fans  \\\n",
      "0  2010,2011,2012,2013,2014,2015,2016,2017,2018  1150   \n",
      "1                                                   4   \n",
      "2                 2012,2013,2014,2015,2016,2017    29   \n",
      "3                                                   0   \n",
      "4                           2015,2016,2017,2018    21   \n",
      "\n",
      "                                             friends  funny      name  \\\n",
      "0  vvqKD8Xow2IsmwOL1lqS9Q, -HLE-x7Lpkfprd6er-JFGg...   4257      Cara   \n",
      "1  CH3YgwWreJHEU75vntW2XA, n6VF7X8cSEN3UjR2n21Rqw...     11     Brian   \n",
      "2  atfOidazPQ0gtIKMc_xqIA, rBVubLc9uLDZLrIhd7OiQg...    709  Jennifer   \n",
      "3  IhiSlJZKEZL0O1syeW3gvQ, mUXt36V1irLlA_UZtEEnfQ...     20     Kevin   \n",
      "4  HSWii1Xd63kXmR7Rp2rp3g, 9XJxkbzctH2eL12u-qAZUw...    127      Dawn   \n",
      "\n",
      "   review_count useful                 user_id        yelping_since  \n",
      "0          1027  10719  NfU0zDaTMEQ4-X9dbQWd9A  2010-07-21 03:42:39  \n",
      "1            19     57  wVVH8vsOOhdJ-5nigb77xg  2012-09-24 02:21:48  \n",
      "2           302    840  tWVlSt-66fl6bk9_5UzltQ  2012-05-11 17:16:04  \n",
      "3            19     25  Khecid8LZRq9n6xe4qjgLA  2009-08-09 16:33:01  \n",
      "4           589    674  sxEzazybwfF86Mv8Dm3tgw  2009-11-04 14:13:29  \n",
      "\n",
      "[5 rows x 22 columns]\n",
      "['average_stars' 'compliment_cool' 'compliment_cute' 'compliment_funny'\n",
      " 'compliment_hot' 'compliment_list' 'compliment_more' 'compliment_note'\n",
      " 'compliment_photos' 'compliment_plain' 'compliment_profile'\n",
      " 'compliment_writer' 'cool' 'elite' 'fans' 'friends' 'funny' 'name'\n",
      " 'review_count' 'useful' 'user_id' 'yelping_since']\n"
     ]
    }
   ],
   "source": [
    "print(Westlake_user.head())\n",
    "print(Westlake_user.columns.values)"
   ]
  },
  {
   "cell_type": "code",
   "execution_count": 20,
   "metadata": {},
   "outputs": [],
   "source": [
    "Westlake_review_business = Westlake_review.join(Westlake_business, rsuffix='_business')\n",
    "Westlake_review_business = Westlake_review.join(Westlake_business, rsuffix='_review')\n",
    "Westlake_review_business_user = Westlake_review_business.join(Westlake_user, rsuffix='_user')\n",
    "\n",
    "Westlake_checkin_business = Westlake_checkin.join(Westlake_business, rsuffix='_business')\n",
    "\n",
    "Westlake_tip_business = Westlake_tip.join(Westlake_business, rsuffix='_business')\n",
    "Westlake_tip_business_user = Westlake_tip_business.join(Westlake_user, rsuffix='_business')"
   ]
  },
  {
   "cell_type": "code",
   "execution_count": 23,
   "metadata": {},
   "outputs": [
    {
     "data": {
      "text/plain": [
       "<matplotlib.axes._subplots.AxesSubplot at 0x265e46f99e8>"
      ]
     },
     "execution_count": 23,
     "metadata": {},
     "output_type": "execute_result"
    },
    {
     "data": {
      "image/png": "[encoded data removed]",
      "text/plain": [
       "<Figure size 432x288 with 1 Axes>"
      ]
     },
     "metadata": {
      "needs_background": "light"
     },
     "output_type": "display_data"
    }
   ],
   "source": [
    "Westlake_review_business_user['stars'].plot(kind='hist', title='occurences of all ratings')"
   ]
  },
  {
   "cell_type": "code",
   "execution_count": 24,
   "metadata": {},
   "outputs": [
    {
     "data": {
      "text/plain": [
       "<matplotlib.axes._subplots.AxesSubplot at 0x265e48fb048>"
      ]
     },
     "execution_count": 24,
     "metadata": {},
     "output_type": "execute_result"
    },
    {
     "data": {
      "image/png": "[encoded data removed]",
      "text/plain": [
       "<Figure size 432x288 with 1 Axes>"
      ]
     },
     "metadata": {
      "needs_background": "light"
     },
     "output_type": "display_data"
    }
   ],
   "source": [
    "grouped_businesses = Westlake_review_business_user.groupby(['business_id']).count()['funny'].rename({'funny': 'no_reviews'})\n",
    "grouped_businesses.plot(kind='hist', title='Amount of reviews per business')"
   ]
  },
  {
   "cell_type": "code",
   "execution_count": 25,
   "metadata": {},
   "outputs": [
    {
     "data": {
      "text/plain": [
       "<matplotlib.axes._subplots.AxesSubplot at 0x265e4984b70>"
      ]
     },
     "execution_count": 25,
     "metadata": {},
     "output_type": "execute_result"
    },
    {
     "data": {
      "image/png": "[encoded data removed]",
      "text/plain": [
       "<Figure size 432x288 with 1 Axes>"
      ]
     },
     "metadata": {
      "needs_background": "light"
     },
     "output_type": "display_data"
    }
   ],
   "source": [
    "grouped_users = Westlake_review_business_user.groupby(['user_id']).count()['funny'].rename({'funny': 'no_reviews'})\n",
    "grouped_users.plot(kind='hist', title='Amount of reviews per user')"
   ]
  },
  {
   "cell_type": "markdown",
   "metadata": {},
   "source": [
    "Deze dataset lijkt in de basis best wel een beetje op de movie database van de individuele opdrachten. Er zijn namelijk in beide gevallen users die ratings geven aan items (in dit geval businesses in plaats van films). Een mooie eerste stap is daarom de al eerder toegepaste modellen van user-based collaborative filtering en item-based collaborative filtering toe te passen op de data om op deze manier al laagdrempelig te kijken naar de peformance van deze recommender systemen.\n",
    "\n",
    "Vermoedelijk zullen deze modellen niet zo heel goed scoren, aangezien de histogrammen hierboven duidelijk laten zien dat de informatiedichtheid vrij laag is met flinke tailing. De echte uitdaging zal daarom mogelijk zitten in het ontwerpen van een meer content-based systeem op basis van andere features in de dataset.\n",
    "\n",
    "Hierbij moet gedacht worden aan een content-based recommender systeem, waarbij bepaalde businesses ingedeeld kunnen worden op basis van allerlei categoriëen. Een deel van de content kan gehaald worden uit de categories-kolom van de businesses. Er kan ook aan gedacht worden om uit de reviews en attributes categories te gaan vormen, afhankelijk van de performance van het model.\n",
    "\n",
    "Een eerst stap voor het model is daarom voor nu om een user-based en item-based recommender system te ontwerpen en de kwaliteit van dit systeem te beoordelen. Een mogelijke uitstap hierbij is vrienden van users meenemen; het zou namelijk zo kunnen zijn dat gebruikers meer geïnteresseerd zijn in ratings van vrienden dan van onbekenden.\n",
    "\n",
    "De belangrijkste features zijn de stars behorende bij de reviews, de userid's en business-id's. we gaan er namelijk in eerste instantie vanuit dat het systeem werkt voor een enkele stad (Sun City), waarna we op een later moment pas overgaan op meerdere steden. \n",
    "Voor het content collaborative-filtering willen we categories en attributes in eerste instantie gaan gebruiken. Mocht dat allemaal succesvol verlopen zijn, overwegen we nog een tekstanalyse te doen.\n",
    "Een andere hoop is de GPS-coördinaten van de businesses te gaan gebruiken van de user en het restaurant om aanbevelingen in de buurt te kunnen doen buiten dezelfde stad, of in een stad resultaten ordenen op afstand.\n",
    "\n",
    "De data is geordend in verschillende steden/regio's/wijken. Ieder gebied heeft een eigen json-bestand voor de users, businesses, check-ins, reviews en tips. Attributes is een dictionary met attributen als keys en booleans als values. Categories zijn een lijst. User_ids en business_ids zijn unieke strings. Ratings zijn floats."
   ]
  },
  {
   "cell_type": "code",
   "execution_count": null,
   "metadata": {},
   "outputs": [],
   "source": []
  }
 ],
 "metadata": {
  "kernelspec": {
   "display_name": "Python 3",
   "language": "python",
   "name": "python3"
  },
  "language_info": {
   "codemirror_mode": {
    "name": "ipython",
    "version": 3
   },
   "file_extension": ".py",
   "mimetype": "text/x-python",
   "name": "python",
   "nbconvert_exporter": "python",
   "pygments_lexer": "ipython3",
   "version": "3.6.4"
  }
 },
 "nbformat": 4,
 "nbformat_minor": 2
}
