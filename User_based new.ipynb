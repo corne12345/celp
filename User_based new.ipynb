{
 "cells": [
  {
   "cell_type": "markdown",
   "metadata": {},
   "source": [
    "## User-Based filtering"
   ]
  },
  {
   "cell_type": "code",
   "execution_count": 1,
   "metadata": {},
   "outputs": [],
   "source": [
    "import pandas as pd\n",
    "import numpy as np"
   ]
  },
  {
   "cell_type": "code",
   "execution_count": 2,
   "metadata": {},
   "outputs": [],
   "source": [
    "lst=[]\n",
    "for file in ['business', 'checkin', 'review', 'tip', 'user']:\n",
    "    f = open(f'yelp-all/stouffville/{file}.json')\n",
    "    lst.append(pd.read_json(f, lines = True))\n",
    "\n",
    "business = lst[0]\n",
    "checkin = lst[1]\n",
    "review = lst[2]\n",
    "tip = lst[3]\n",
    "user = lst[4]"
   ]
  },
  {
   "cell_type": "markdown",
   "metadata": {},
   "source": [
    "Na het inladen van de modules en de databestanden is het nodig met een aantal helperfuncties een utility matrix te maken. Het verschil tussen user-based en item-based is de oriëntatie van de matrix."
   ]
  },
  {
   "cell_type": "code",
   "execution_count": 3,
   "metadata": {},
   "outputs": [],
   "source": [
    "# define a helper function for accessing data\n",
    "def get_rating(reviews, user_id = None, business_id = None, review_id = None):\n",
    "    try:\n",
    "        if user_id and business_id:\n",
    "            return reviews[(reviews['user_id'] == user_id) & (reviews['business_id'] == business_id)]['stars'].values.mean()\n",
    "        elif review_id:\n",
    "            return reviews[(reviews['review_id'] == review_id)]\n",
    "    except:\n",
    "        return np.nan# define a helper function to create a pivot table"
   ]
  },
  {
   "cell_type": "code",
   "execution_count": 4,
   "metadata": {},
   "outputs": [],
   "source": [
    "def pivot_ratings(reviews):\n",
    "    businessIds = reviews['business_id'].unique()\n",
    "    userIds = reviews['user_id'].unique()\n",
    "    \n",
    "    # create empty data frame\n",
    "    pivot_data = pd.DataFrame(np.nan, columns=userIds, index=businessIds, dtype=float)\n",
    "    \n",
    "    # use the function get_rating to fill the matrix\n",
    "    for i in pivot_data.columns:\n",
    "        for j in pivot_data.index:\n",
    "            pivot_data[i][j] = get_rating(reviews, i, j)\n",
    "    \n",
    "    return pivot_data.T\n"
   ]
  },
  {
   "cell_type": "code",
   "execution_count": 5,
   "metadata": {},
   "outputs": [],
   "source": [
    "def mean_center_columns(matrix):\n",
    "    for column in matrix.columns:\n",
    "        matrix[column] -= matrix[column].mean()\n",
    "    return matrix.T"
   ]
  },
  {
   "cell_type": "code",
   "execution_count": 6,
   "metadata": {},
   "outputs": [],
   "source": [
    "def cosine_similarity(matrix, id1, id2):\n",
    "    \"\"\"Compute cosine similarity\"\"\"\n",
    "    selected_features = matrix.loc[id1].notna() & matrix.loc[id2].notna()\n",
    "    \n",
    "    # if no matching features, return 0\n",
    "    if not selected_features.any():\n",
    "        return 0\n",
    "    \n",
    "    # get the features from the matrix\n",
    "    features1 = matrix.loc[id1][selected_features]\n",
    "    features2 = matrix.loc[id2][selected_features]\n",
    "    \n",
    "    # return 1 for the diagonals and 0 if there are no matching features\n",
    "    if features1.equals(features2):\n",
    "        return 1\n",
    "    if features1.max() == 0 or features2.max() == 0:\n",
    "        return 0\n",
    "    \n",
    "    return sum(features1 * features2)/((sum(features1**2)**0.5) * sum((features2**2))**0.5)\n",
    "\n",
    "\n",
    "def create_similarity_matrix_cosine(matrix):\n",
    "    \"\"\" creates the similarity matrix based on cosine similarity \"\"\"\n",
    "    similarity_matrix = pd.DataFrame(0, index=matrix.index, columns=matrix.index, dtype=float)\n",
    "    id1 = similarity_matrix.columns.values\n",
    "    for i in id1:\n",
    "        for j in id1:\n",
    "            similarity_matrix[i][j] = cosine_similarity(matrix, i, j)\n",
    "    return similarity_matrix "
   ]
  },
  {
   "cell_type": "code",
   "execution_count": 7,
   "metadata": {},
   "outputs": [],
   "source": [
    "def select_neighborhood(similarity_matrix, utility_matrix, target_user, target_business):\n",
    "    \"\"\"selects all items with similarity > 0\"\"\"\n",
    "    try:\n",
    "        all_neighbors = similarity_matrix.loc[utility_matrix[target_user].dropna().index.values][target_business]\n",
    "        return all_neighbors[all_neighbors > 0]\n",
    "    except:\n",
    "        return np.nan\n",
    "\n",
    "def weighted_mean(neighborhood, utility_matrix, user_id):\n",
    "    try:\n",
    "        ratings = utility_matrix[user_id][neighborhood.index.values]\n",
    "        return (neighborhood * ratings).sum() / neighborhood.sum()\n",
    "    except:\n",
    "        return np.nan"
   ]
  },
  {
   "cell_type": "code",
   "execution_count": 8,
   "metadata": {},
   "outputs": [],
   "source": [
    "def create_prediction_df(utility_matrix, similarity_matrix):\n",
    "    prediction_df = pd.DataFrame(np.nan, columns=utility_matrix.columns, index=utility_matrix.index, dtype=float)           \n",
    "    for business in utility_matrix.index:\n",
    "        for user in utility_matrix.columns:\n",
    "            neighborhood = select_neighborhood(similarity_matrix, utility_matrix, user, business)\n",
    "            prediction_df[user][business] = weighted_mean(neighborhood, utility_matrix, user)\n",
    "    return prediction_df"
   ]
  },
  {
   "cell_type": "code",
   "execution_count": 9,
   "metadata": {},
   "outputs": [],
   "source": [
    "def top_recommendations(predictions_df, user, amount=10):\n",
    "    reccs = prediction_df[user].sort_values(ascending=False)[:amount]\n",
    "    for id in reccs.index:\n",
    "        print(Sun_business[Sun_business['business_id'] == id]['name'].values, reccs[id])\n",
    "    return reccs"
   ]
  },
  {
   "cell_type": "code",
   "execution_count": 10,
   "metadata": {},
   "outputs": [],
   "source": [
    "def get_recommendations_website(user, city, new = False):\n",
    "    reviews = pd.read_json(open(f'yelp-all/{city}/review.json'), lines=True)\n",
    "    users = pd.read_json(open(f'yelp-all/{city}/user.json'), lines=True)\n",
    "    businesses = pd.read_json(open(f'yelp-all/{city}/business.json'), lines=True)\n",
    "    utility_matrix = pivot_ratings(reviews)\n",
    "    centered_utility_matrix = mean_center_columns(utility_matrix)\n",
    "    similarity_matrix = create_similarity_matrix_cosine(centered_utility_matrix)\n",
    "    prediction_df = create_prediction_df(utility_matrix, similarity_matrix)\n",
    "    if new == True:\n",
    "        prediction_df= prediction_df.subtract(utility_matrix, fill_value = 0)\n",
    "    return top_recommendations(prediction_df, user)"
   ]
  },
  {
   "cell_type": "markdown",
   "metadata": {},
   "source": [
    "Volgende stap is alles uit te testen en een resultaat te krijgen"
   ]
  },
  {
   "cell_type": "code",
   "execution_count": 11,
   "metadata": {},
   "outputs": [
    {
     "name": "stderr",
     "output_type": "stream",
     "text": [
      "C:\\Users\\Corne\\Anaconda3\\lib\\site-packages\\ipykernel_launcher.py:5: RuntimeWarning: Mean of empty slice.\n",
      "  \"\"\"\n",
      "C:\\Users\\Corne\\Anaconda3\\lib\\site-packages\\numpy\\core\\_methods.py:85: RuntimeWarning: invalid value encountered in double_scalars\n",
      "  ret = ret.dtype.type(ret / rcount)\n"
     ]
    },
    {
     "ename": "NameError",
     "evalue": "name 'utility_matrix' is not defined",
     "output_type": "error",
     "traceback": [
      "\u001b[1;31m---------------------------------------------------------------------------\u001b[0m",
      "\u001b[1;31mNameError\u001b[0m                                 Traceback (most recent call last)",
      "\u001b[1;32m<ipython-input-11-d76677863517>\u001b[0m in \u001b[0;36m<module>\u001b[1;34m\u001b[0m\n\u001b[1;32m----> 1\u001b[1;33m \u001b[0mget_recommendations_website\u001b[0m\u001b[1;33m(\u001b[0m\u001b[1;34m'--bk6oc1GSNnTZG-UakcfQ'\u001b[0m\u001b[1;33m,\u001b[0m \u001b[1;34m'stouffville'\u001b[0m\u001b[1;33m)\u001b[0m\u001b[1;33m\u001b[0m\u001b[1;33m\u001b[0m\u001b[0m\n\u001b[0m",
      "\u001b[1;32m<ipython-input-10-1f5ea55e1493>\u001b[0m in \u001b[0;36mget_recommendations_website\u001b[1;34m(user, city, new)\u001b[0m\n\u001b[0;32m      4\u001b[0m     \u001b[0mbusinesses\u001b[0m \u001b[1;33m=\u001b[0m \u001b[0mpd\u001b[0m\u001b[1;33m.\u001b[0m\u001b[0mread_json\u001b[0m\u001b[1;33m(\u001b[0m\u001b[0mopen\u001b[0m\u001b[1;33m(\u001b[0m\u001b[1;34mf'yelp-all/{city}/business.json'\u001b[0m\u001b[1;33m)\u001b[0m\u001b[1;33m,\u001b[0m \u001b[0mlines\u001b[0m\u001b[1;33m=\u001b[0m\u001b[1;32mTrue\u001b[0m\u001b[1;33m)\u001b[0m\u001b[1;33m\u001b[0m\u001b[1;33m\u001b[0m\u001b[0m\n\u001b[0;32m      5\u001b[0m     \u001b[0mutility_rating\u001b[0m \u001b[1;33m=\u001b[0m \u001b[0mpivot_ratings\u001b[0m\u001b[1;33m(\u001b[0m\u001b[0mreviews\u001b[0m\u001b[1;33m)\u001b[0m\u001b[1;33m\u001b[0m\u001b[1;33m\u001b[0m\u001b[0m\n\u001b[1;32m----> 6\u001b[1;33m     \u001b[0mcentered_utility_matrix\u001b[0m \u001b[1;33m=\u001b[0m \u001b[0mmean_center_columns\u001b[0m\u001b[1;33m(\u001b[0m\u001b[0mutility_matrix\u001b[0m\u001b[1;33m)\u001b[0m\u001b[1;33m\u001b[0m\u001b[1;33m\u001b[0m\u001b[0m\n\u001b[0m\u001b[0;32m      7\u001b[0m     \u001b[0msimilarity_matrix\u001b[0m \u001b[1;33m=\u001b[0m \u001b[0mcreate_similarity_matrix_cosine\u001b[0m\u001b[1;33m(\u001b[0m\u001b[0mcentered_utility_matrix\u001b[0m\u001b[1;33m)\u001b[0m\u001b[1;33m\u001b[0m\u001b[1;33m\u001b[0m\u001b[0m\n\u001b[0;32m      8\u001b[0m     \u001b[0mprediction_df\u001b[0m \u001b[1;33m=\u001b[0m \u001b[0mcreate_prediction_df\u001b[0m\u001b[1;33m(\u001b[0m\u001b[0mutility_matrix\u001b[0m\u001b[1;33m,\u001b[0m \u001b[0msimilarity_matrix\u001b[0m\u001b[1;33m)\u001b[0m\u001b[1;33m\u001b[0m\u001b[1;33m\u001b[0m\u001b[0m\n",
      "\u001b[1;31mNameError\u001b[0m: name 'utility_matrix' is not defined"
     ]
    }
   ],
   "source": [
    "get_recommendations_website('--bk6oc1GSNnTZG-UakcfQ', 'stouffville')"
   ]
  },
  {
   "cell_type": "code",
   "execution_count": null,
   "metadata": {},
   "outputs": [],
   "source": [
    "# utility_matrix = pivot_ratings(review)\n",
    "# adjusted_utility_matrix = mean_center_columns(utility_matrix)\n",
    "# similarity_matrix = create_similairty_matrix_cosine (adjusted_utility_matrix)\n"
   ]
  }
 ],
 "metadata": {
  "kernelspec": {
   "display_name": "Python 3",
   "language": "python",
   "name": "python3"
  },
  "language_info": {
   "codemirror_mode": {
    "name": "ipython",
    "version": 3
   },
   "file_extension": ".py",
   "mimetype": "text/x-python",
   "name": "python",
   "nbconvert_exporter": "python",
   "pygments_lexer": "ipython3",
   "version": "3.7.3"
  }
 },
 "nbformat": 4,
 "nbformat_minor": 2
}
