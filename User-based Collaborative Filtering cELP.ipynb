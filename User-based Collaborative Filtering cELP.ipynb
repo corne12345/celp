{
 "cells": [
  {
   "cell_type": "code",
   "execution_count": null,
   "metadata": {},
   "outputs": [],
   "source": [
    "import pandas as pd\n",
    "import numpy as np"
   ]
  },
  {
   "cell_type": "code",
   "execution_count": null,
   "metadata": {},
   "outputs": [],
   "source": [
    "lst = []\n",
    "for i in ['Westlake', 'stouffville']:\n",
    "    for j in ['business', 'checkin', 'review', 'tip', 'user']:\n",
    "        f = open(f'yelp-all/{i}/{j}.json')\n",
    "        lst.append(pd.read_json(f, lines=True))\n",
    "\n",
    "Westlake_business = lst[0]\n",
    "Westlake_checkin = lst[1]\n",
    "Westlake_review = lst[2]\n",
    "Westlake_tip = lst[3]\n",
    "Westlake_user = lst[4]\n",
    "Sun_business = lst[5]\n",
    "Sun_checkin = lst[6]\n",
    "Sun_review = lst[7].sort_values(['user_id'])\n",
    "Sun_tip = lst[8]\n",
    "Sun_user = lst[9]\n",
    "Sun_review"
   ]
  },
  {
   "cell_type": "code",
   "execution_count": null,
   "metadata": {},
   "outputs": [],
   "source": [
    "# define a helper function for accessing data\n",
    "def get_rating(reviews, user_id = None, business_id = None, review_id = None):\n",
    "    try:\n",
    "        if user_id and business_id:\n",
    "            return reviews[(reviews['user_id'] == user_id) & (reviews['business_id'] == business_id)]['stars'].values.mean()\n",
    "        elif review_id:\n",
    "            return reviews[(reviews['review_id'] == review_id)]\n",
    "    except:\n",
    "        return np.nan# define a helper function to create a pivot table"
   ]
  },
  {
   "cell_type": "code",
   "execution_count": null,
   "metadata": {},
   "outputs": [],
   "source": [
    "def pivot_ratings(reviews):\n",
    "    businessIds = reviews['business_id'].unique()\n",
    "    userIds = reviews['user_id'].unique()\n",
    "    \n",
    "    # create empty data frame\n",
    "    pivot_data = pd.DataFrame(np.nan, columns=userIds, index=businessIds, dtype=float)\n",
    "    \n",
    "    # use the function get_rating to fill the matrix\n",
    "    for i in pivot_data.columns:\n",
    "        for j in pivot_data.index:\n",
    "            pivot_data[i][j] = get_rating(reviews, i, j)\n",
    "    \n",
    "    return pivot_data\n",
    "\n",
    "\n",
    "\n",
    "%time utility_matrix = pivot_ratings(Sun_review).T #transpose is necessary for user-based\n",
    "display(utility_matrix)\n"
   ]
  },
  {
   "cell_type": "code",
   "execution_count": null,
   "metadata": {},
   "outputs": [],
   "source": [
    "def cosine_similarity(matrix, id1, id2):\n",
    "    \"\"\"Compute cosine similarity\"\"\"\n",
    "    selected_features = matrix.loc[id1].notna() & matrix.loc[id2].notna()\n",
    "    \n",
    "    # if no matching features, return 0\n",
    "    if not selected_features.any():\n",
    "        return 0\n",
    "    \n",
    "    # get the features from the matrix\n",
    "    features1 = matrix.loc[id1][selected_features]\n",
    "    features2 = matrix.loc[id2][selected_features]\n",
    "    \n",
    "    # return 1 for the diagonals and 0 if there are no matching features\n",
    "    if features1.equals(features2):\n",
    "        return 1\n",
    "    if features1.max() == 0 or features2.max() == 0:\n",
    "        return 0\n",
    "    \n",
    "    return sum(features1 * features2)/((sum(features1**2)**0.5) * sum((features2**2))**0.5)\n",
    "\n",
    "\n",
    "def create_similarity_matrix_cosine(matrix):\n",
    "    \"\"\" creates the similarity matrix based on cosine similarity \"\"\"\n",
    "    similarity_matrix = pd.DataFrame(0, index=matrix.index, columns=matrix.index, dtype=float)\n",
    "    id1 = similarity_matrix.columns.values\n",
    "    for i in id1:\n",
    "        for j in id1:\n",
    "            similarity_matrix[i][j] = cosine_similarity(matrix, i, j)\n",
    "    return similarity_matrix\n",
    "\n",
    "def mean_center_columns(matrix):\n",
    "    for column in matrix.columns:\n",
    "        matrix[column] -= matrix[column].mean()\n",
    "    return matrix\n",
    "\n",
    "def select_neighborhood(similarity_matrix, utility_matrix, target_user, target_business):\n",
    "    \"\"\"selects all items with similarity > 0\"\"\"\n",
    "    try:\n",
    "        all_neighbors = similarity_matrix.loc[utility_matrix[target_user].dropna().index.values][target_business]\n",
    "        return all_neighbors[all_neighbors > 0]\n",
    "    except:\n",
    "        return np.nan\n",
    "\n",
    "def weighted_mean(neighborhood, utility_matrix, user_id):\n",
    "    try:\n",
    "        ratings = utility_matrix[user_id][neighborhood.index.values]\n",
    "        return (neighborhood * ratings).sum() / neighborhood.sum()\n",
    "    except:\n",
    "        return np.nan\n",
    "    \n",
    "centered_utility_matrix = mean_center_columns(utility_matrix)\n",
    "# display(centered_utility_matrix)\n",
    "\n",
    "similarity_matrix = create_similarity_matrix_cosine(centered_utility_matrix)\n",
    "display(similarity_matrix)"
   ]
  },
  {
   "cell_type": "code",
   "execution_count": null,
   "metadata": {},
   "outputs": [],
   "source": []
  }
 ],
 "metadata": {
  "kernelspec": {
   "display_name": "Python 3",
   "language": "python",
   "name": "python3"
  },
  "language_info": {
   "codemirror_mode": {
    "name": "ipython",
    "version": 3
   },
   "file_extension": ".py",
   "mimetype": "text/x-python",
   "name": "python",
   "nbconvert_exporter": "python",
   "pygments_lexer": "ipython3",
   "version": "3.6.4"
  }
 },
 "nbformat": 4,
 "nbformat_minor": 2
}
